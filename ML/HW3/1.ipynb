{
 "cells": [
  {
   "cell_type": "code",
   "execution_count": 14,
   "id": "27392fb1",
   "metadata": {},
   "outputs": [],
   "source": [
    "import seaborn as sns\n",
    "import matplotlib.pyplot as plt\n",
    "import pandas as pd\n",
    "import numpy as np"
   ]
  },
  {
   "cell_type": "code",
   "execution_count": 15,
   "id": "e745b521",
   "metadata": {},
   "outputs": [],
   "source": [
    "x = np.linspace(0, 5, 101)\n",
    "x_value = np.power(10,x)\n",
    "y_value = np.power((1-1/(x_value)),x_value)"
   ]
  },
  {
   "cell_type": "code",
   "execution_count": 16,
   "id": "30005a14",
   "metadata": {},
   "outputs": [],
   "source": [
    "y_value = 1-y_value"
   ]
  },
  {
   "cell_type": "code",
   "execution_count": 17,
   "id": "115715c7",
   "metadata": {},
   "outputs": [
    {
     "data": {
      "text/plain": [
       "array([1.        , 0.91704327, 0.8634354 , 0.82422905, 0.79400219,\n",
       "       0.76994127, 0.75036459, 0.7341789 , 0.72063166, 0.70918257,\n",
       "       0.69943099, 0.691072  , 0.68386862, 0.67763339, 0.67221579,\n",
       "       0.66749346, 0.66336579, 0.65974932, 0.6565742 , 0.65378159,\n",
       "       0.65132156, 0.64915155, 0.64723509, 0.64554077, 0.64404147,\n",
       "       0.64271365, 0.64153686, 0.64049327, 0.63956727, 0.63874522,\n",
       "       0.63801512, 0.63736643, 0.63678989, 0.6362773 , 0.63582146,\n",
       "       0.63541597, 0.63505521, 0.63473418, 0.63444845, 0.6341941 ,\n",
       "       0.63396766, 0.63376604, 0.6335865 , 0.63342661, 0.6332842 ,\n",
       "       0.63315736, 0.63304437, 0.63294372, 0.63285405, 0.63277417,\n",
       "       0.63270299, 0.63263958, 0.63258308, 0.63253273, 0.63248787,\n",
       "       0.6324479 , 0.63241228, 0.63238053, 0.63235225, 0.63232704,\n",
       "       0.63230458, 0.63228456, 0.63226672, 0.63225082, 0.63223665,\n",
       "       0.63222402, 0.63221277, 0.63220274, 0.6321938 , 0.63218583,\n",
       "       0.63217873, 0.63217241, 0.63216677, 0.63216174, 0.63215726,\n",
       "       0.63215327, 0.63214971, 0.63214654, 0.63214372, 0.6321412 ,\n",
       "       0.63213895, 0.63213695, 0.63213517, 0.63213358, 0.63213216,\n",
       "       0.6321309 , 0.63212978, 0.63212878, 0.63212788, 0.63212709,\n",
       "       0.63212638, 0.63212574, 0.63212518, 0.63212468, 0.63212423,\n",
       "       0.63212383, 0.63212347, 0.63212316, 0.63212287, 0.63212262,\n",
       "       0.6321224 ])"
      ]
     },
     "execution_count": 17,
     "metadata": {},
     "output_type": "execute_result"
    }
   ],
   "source": [
    "y_value"
   ]
  },
  {
   "cell_type": "code",
   "execution_count": 21,
   "id": "b6524399",
   "metadata": {},
   "outputs": [
    {
     "data": {
      "text/plain": [
       "[<matplotlib.lines.Line2D at 0x12bec2670>]"
      ]
     },
     "execution_count": 21,
     "metadata": {},
     "output_type": "execute_result"
    },
    {
     "data": {
      "image/png": "[encoded data removed]",
      "text/plain": [
       "<Figure size 640x480 with 1 Axes>"
      ]
     },
     "metadata": {},
     "output_type": "display_data"
    }
   ],
   "source": [
    "plt.plot(x, y_value)"
   ]
  },
  {
   "cell_type": "code",
   "execution_count": 27,
   "id": "d5d019cf",
   "metadata": {},
   "outputs": [
    {
     "data": {
      "text/plain": [
       "np.float64(0.0089)"
      ]
     },
     "execution_count": 27,
     "metadata": {},
     "output_type": "execute_result"
    }
   ],
   "source": [
    "rng = np.random.default_rng(10)\n",
    "store = np.empty(10000)\n",
    "for i in range(10000):\n",
    "    store[i] = np.sum(rng.choice(100, replace=True) == 4)> 0\n",
    "np.mean(store)"
   ]
  },
  {
   "cell_type": "code",
   "execution_count": null,
   "id": "f02af29e",
   "metadata": {},
   "outputs": [
    {
     "name": "stdout",
     "output_type": "stream",
     "text": [
      "Monte Carlo estimate ≈ 0.633560\n",
      "Theory ≈ 0.633968\n"
     ]
    }
   ],
   "source": [
    "import numpy as np\n",
    "\n",
    "def simulate_prob_contains_j(n=100, j=4, trials=200_000, rng=None):\n",
    "    if rng is None:\n",
    "        rng = np.random.default_rng(1234)\n",
    "    store = np.empty(trials, dtype=bool) \n",
    "\n",
    "    for t in range(trials):\n",
    "        sample = rng.integers(1, n+1, size=n)  \n",
    "        store[t] = np.any(sample == j)         \n",
    "    return store.mean()\n",
    "\n",
    "est = simulate_prob_contains_j(n=100, j=4, trials=200_000)\n",
    "theory = 1 - (1 - 1/100)**100\n",
    "print(f\"Monte Carlo estimate ≈ {est:.6f}\")\n",
    "print(f\"Theory ≈ {theory:.6f}\")"
   ]
  }
 ],
 "metadata": {
  "kernelspec": {
   "display_name": "Python 3",
   "language": "python",
   "name": "python3"
  },
  "language_info": {
   "codemirror_mode": {
    "name": "ipython",
    "version": 3
   },
   "file_extension": ".py",
   "mimetype": "text/x-python",
   "name": "python",
   "nbconvert_exporter": "python",
   "pygments_lexer": "ipython3",
   "version": "3.9.6"
  }
 },
 "nbformat": 4,
 "nbformat_minor": 5
}
